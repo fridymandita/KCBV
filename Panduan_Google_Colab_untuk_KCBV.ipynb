{
  "nbformat": 4,
  "nbformat_minor": 0,
  "metadata": {
    "colab": {
      "name": "Panduan Google Colab untuk KCBV.ipynb",
      "provenance": [],
      "toc_visible": true,
      "authorship_tag": "ABX9TyP227XU0ROcKiBzTTGQtmeQ",
      "include_colab_link": true
    },
    "kernelspec": {
      "name": "python3",
      "display_name": "Python 3"
    },
    "language_info": {
      "name": "python"
    }
  },
  "cells": [
    {
      "cell_type": "markdown",
      "metadata": {
        "id": "view-in-github",
        "colab_type": "text"
      },
      "source": [
        "<a href=\"https://colab.research.google.com/github/fridymandita/KCBV/blob/main/Panduan_Google_Colab_untuk_KCBV.ipynb\" target=\"_parent\"><img src=\"https://colab.research.google.com/assets/colab-badge.svg\" alt=\"Open In Colab\"/></a>"
      ]
    },
    {
      "cell_type": "markdown",
      "source": [
        "# Pengenalan Google Colab untuk KCBV"
      ],
      "metadata": {
        "id": "KzsRUkpHyRvW"
      }
    },
    {
      "cell_type": "markdown",
      "source": [
        "## Pendahuluan"
      ],
      "metadata": {
        "id": "8AhMblr4yrWO"
      }
    },
    {
      "cell_type": "markdown",
      "source": [
        "OpenCV (opencv.org) merupakan sebuah framework yang banyak digunakan untuk keperluan pengolahan citra digital terutama untuk pemrosesan image dan video. OpenCV bersifat gratis dan tersedia untuk berbagai bahasa pemrograman, seperti C++, Python, Java dan lain-lain pada platform Windows, Linux, iOS, Android dan seterusnya. OpenCV dapat digunakan untuk melakukan berbagai operasi terhadap citra dan video dengan berbagai algoritma terbaru serta banyak digunakan pada berbagai sistem pengolahan citra yang populer.\n",
        "\n",
        "Python (python.org) merupakan salah satu bahasa pemrograman yang paling banyak digunakan di dunia. Python merupakan bahasa yang dikembangkan untuk keperluan umum dan dilengkapi dengan berbagai package atau library yang mendukung banyak fungsi yang spesifik, seperti numpy (pengolahan matriks seperti Matlab), scipy (pengolahan data statistik), bokeh (visualisasi dan data analitik), flask (framework untuk web berbasis Python), dan lain sebagainya. OpenCV sendiri merupakan salah satu library yang juga dibuat dalam bahasa Python sehingga memudahkan penggunaannya untuk keperluan pemrosesan citra dalam lingkungan Python. Saat ini terdapat dua versi besar Python yang beredar, yaitu versi 2.x dan versi 3.x.\n",
        "\n",
        "Google Colaboratory (https://colab.research.google.com/ merupakan perangkat komputasi awan (cloud computing) yang dibuat oleh Google dengan tujuan untuk memudahkan kegiatan pembelajaran dan pengolahan data dengan mudah menggunakan antarmuka berbasis Jupyter Notebook atau iPython (interactive Python). Google Colab menyediakan sebuah platform komputasi gratis berupa komputer virtual untuk setiap penggunanya yang dilengkapi dengan kemampuan pengolahan data yang memadai. Dengan memanfaatkan Google Colab, pengguna tidak perlu melakukan instalasi atau pengaturan yang rumit untuk keperluan pengolahan data dengan menggunakan Python.\n",
        "\n",
        "Google Colab dilengkapi dengan beberapa modul Python bawaan, seperti numpy dan OpenCV sehingga pengguna dapat memanfaatkan platform ini untuk melakukan pengolahan citra sederhana. Pada bagian ini akan dijelaskan dasar penggunaan Google Colab untuk melakukan pengolahan citra digital menggunakan Python."
      ],
      "metadata": {
        "id": "hyB85X_xywg4"
      }
    }
  ]
}