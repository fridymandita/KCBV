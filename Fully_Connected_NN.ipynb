{
  "nbformat": 4,
  "nbformat_minor": 0,
  "metadata": {
    "colab": {
      "name": "Fully Connected NN.ipynb",
      "provenance": [],
      "authorship_tag": "ABX9TyMM2/OG0I/+itSUSIorj+Zq",
      "include_colab_link": true
    },
    "kernelspec": {
      "name": "python3",
      "display_name": "Python 3"
    },
    "language_info": {
      "name": "python"
    },
    "widgets": {
      "application/vnd.jupyter.widget-state+json": {
        "20eddcbe23604ea28fe071749cbcdf9c": {
          "model_module": "@jupyter-widgets/controls",
          "model_name": "HBoxModel",
          "model_module_version": "1.5.0",
          "state": {
            "_dom_classes": [],
            "_model_module": "@jupyter-widgets/controls",
            "_model_module_version": "1.5.0",
            "_model_name": "HBoxModel",
            "_view_count": null,
            "_view_module": "@jupyter-widgets/controls",
            "_view_module_version": "1.5.0",
            "_view_name": "HBoxView",
            "box_style": "",
            "children": [
              "IPY_MODEL_bc79d7e3cceb4c01b620c731b7e9db64",
              "IPY_MODEL_dc282c70b13b426cbd6ca1a5cd6ea540",
              "IPY_MODEL_4b4488aaab0a4ddba9f698f77a798295"
            ],
            "layout": "IPY_MODEL_a5ea45dde80842b38b4b6745c05bd6ea"
          }
        },
        "bc79d7e3cceb4c01b620c731b7e9db64": {
          "model_module": "@jupyter-widgets/controls",
          "model_name": "HTMLModel",
          "model_module_version": "1.5.0",
          "state": {
            "_dom_classes": [],
            "_model_module": "@jupyter-widgets/controls",
            "_model_module_version": "1.5.0",
            "_model_name": "HTMLModel",
            "_view_count": null,
            "_view_module": "@jupyter-widgets/controls",
            "_view_module_version": "1.5.0",
            "_view_name": "HTMLView",
            "description": "",
            "description_tooltip": null,
            "layout": "IPY_MODEL_0d1e4bff90114605ac20b6221d4911a2",
            "placeholder": "​",
            "style": "IPY_MODEL_06ebfe22d0cb4ffbb062a4cdfbb0aff8",
            "value": ""
          }
        },
        "dc282c70b13b426cbd6ca1a5cd6ea540": {
          "model_module": "@jupyter-widgets/controls",
          "model_name": "FloatProgressModel",
          "model_module_version": "1.5.0",
          "state": {
            "_dom_classes": [],
            "_model_module": "@jupyter-widgets/controls",
            "_model_module_version": "1.5.0",
            "_model_name": "FloatProgressModel",
            "_view_count": null,
            "_view_module": "@jupyter-widgets/controls",
            "_view_module_version": "1.5.0",
            "_view_name": "ProgressView",
            "bar_style": "success",
            "description": "",
            "description_tooltip": null,
            "layout": "IPY_MODEL_81cd27d0747d4e3ea096ac6336e526cf",
            "max": 9912422,
            "min": 0,
            "orientation": "horizontal",
            "style": "IPY_MODEL_240efe0f59fb4d1f9fbcf97310adb3d3",
            "value": 9912422
          }
        },
        "4b4488aaab0a4ddba9f698f77a798295": {
          "model_module": "@jupyter-widgets/controls",
          "model_name": "HTMLModel",
          "model_module_version": "1.5.0",
          "state": {
            "_dom_classes": [],
            "_model_module": "@jupyter-widgets/controls",
            "_model_module_version": "1.5.0",
            "_model_name": "HTMLModel",
            "_view_count": null,
            "_view_module": "@jupyter-widgets/controls",
            "_view_module_version": "1.5.0",
            "_view_name": "HTMLView",
            "description": "",
            "description_tooltip": null,
            "layout": "IPY_MODEL_b759bf00a261484388a83db7762e3bcd",
            "placeholder": "​",
            "style": "IPY_MODEL_055911003e5e47d0b01cd2540dae9bc2",
            "value": " 9913344/? [00:00&lt;00:00, 8768376.62it/s]"
          }
        },
        "a5ea45dde80842b38b4b6745c05bd6ea": {
          "model_module": "@jupyter-widgets/base",
          "model_name": "LayoutModel",
          "model_module_version": "1.2.0",
          "state": {
            "_model_module": "@jupyter-widgets/base",
            "_model_module_version": "1.2.0",
            "_model_name": "LayoutModel",
            "_view_count": null,
            "_view_module": "@jupyter-widgets/base",
            "_view_module_version": "1.2.0",
            "_view_name": "LayoutView",
            "align_content": null,
            "align_items": null,
            "align_self": null,
            "border": null,
            "bottom": null,
            "display": null,
            "flex": null,
            "flex_flow": null,
            "grid_area": null,
            "grid_auto_columns": null,
            "grid_auto_flow": null,
            "grid_auto_rows": null,
            "grid_column": null,
            "grid_gap": null,
            "grid_row": null,
            "grid_template_areas": null,
            "grid_template_columns": null,
            "grid_template_rows": null,
            "height": null,
            "justify_content": null,
            "justify_items": null,
            "left": null,
            "margin": null,
            "max_height": null,
            "max_width": null,
            "min_height": null,
            "min_width": null,
            "object_fit": null,
            "object_position": null,
            "order": null,
            "overflow": null,
            "overflow_x": null,
            "overflow_y": null,
            "padding": null,
            "right": null,
            "top": null,
            "visibility": null,
            "width": null
          }
        },
        "0d1e4bff90114605ac20b6221d4911a2": {
          "model_module": "@jupyter-widgets/base",
          "model_name": "LayoutModel",
          "model_module_version": "1.2.0",
          "state": {
            "_model_module": "@jupyter-widgets/base",
            "_model_module_version": "1.2.0",
            "_model_name": "LayoutModel",
            "_view_count": null,
            "_view_module": "@jupyter-widgets/base",
            "_view_module_version": "1.2.0",
            "_view_name": "LayoutView",
            "align_content": null,
            "align_items": null,
            "align_self": null,
            "border": null,
            "bottom": null,
            "display": null,
            "flex": null,
            "flex_flow": null,
            "grid_area": null,
            "grid_auto_columns": null,
            "grid_auto_flow": null,
            "grid_auto_rows": null,
            "grid_column": null,
            "grid_gap": null,
            "grid_row": null,
            "grid_template_areas": null,
            "grid_template_columns": null,
            "grid_template_rows": null,
            "height": null,
            "justify_content": null,
            "justify_items": null,
            "left": null,
            "margin": null,
            "max_height": null,
            "max_width": null,
            "min_height": null,
            "min_width": null,
            "object_fit": null,
            "object_position": null,
            "order": null,
            "overflow": null,
            "overflow_x": null,
            "overflow_y": null,
            "padding": null,
            "right": null,
            "top": null,
            "visibility": null,
            "width": null
          }
        },
        "06ebfe22d0cb4ffbb062a4cdfbb0aff8": {
          "model_module": "@jupyter-widgets/controls",
          "model_name": "DescriptionStyleModel",
          "model_module_version": "1.5.0",
          "state": {
            "_model_module": "@jupyter-widgets/controls",
            "_model_module_version": "1.5.0",
            "_model_name": "DescriptionStyleModel",
            "_view_count": null,
            "_view_module": "@jupyter-widgets/base",
            "_view_module_version": "1.2.0",
            "_view_name": "StyleView",
            "description_width": ""
          }
        },
        "81cd27d0747d4e3ea096ac6336e526cf": {
          "model_module": "@jupyter-widgets/base",
          "model_name": "LayoutModel",
          "model_module_version": "1.2.0",
          "state": {
            "_model_module": "@jupyter-widgets/base",
            "_model_module_version": "1.2.0",
            "_model_name": "LayoutModel",
            "_view_count": null,
            "_view_module": "@jupyter-widgets/base",
            "_view_module_version": "1.2.0",
            "_view_name": "LayoutView",
            "align_content": null,
            "align_items": null,
            "align_self": null,
            "border": null,
            "bottom": null,
            "display": null,
            "flex": null,
            "flex_flow": null,
            "grid_area": null,
            "grid_auto_columns": null,
            "grid_auto_flow": null,
            "grid_auto_rows": null,
            "grid_column": null,
            "grid_gap": null,
            "grid_row": null,
            "grid_template_areas": null,
            "grid_template_columns": null,
            "grid_template_rows": null,
            "height": null,
            "justify_content": null,
            "justify_items": null,
            "left": null,
            "margin": null,
            "max_height": null,
            "max_width": null,
            "min_height": null,
            "min_width": null,
            "object_fit": null,
            "object_position": null,
            "order": null,
            "overflow": null,
            "overflow_x": null,
            "overflow_y": null,
            "padding": null,
            "right": null,
            "top": null,
            "visibility": null,
            "width": null
          }
        },
        "240efe0f59fb4d1f9fbcf97310adb3d3": {
          "model_module": "@jupyter-widgets/controls",
          "model_name": "ProgressStyleModel",
          "model_module_version": "1.5.0",
          "state": {
            "_model_module": "@jupyter-widgets/controls",
            "_model_module_version": "1.5.0",
            "_model_name": "ProgressStyleModel",
            "_view_count": null,
            "_view_module": "@jupyter-widgets/base",
            "_view_module_version": "1.2.0",
            "_view_name": "StyleView",
            "bar_color": null,
            "description_width": ""
          }
        },
        "b759bf00a261484388a83db7762e3bcd": {
          "model_module": "@jupyter-widgets/base",
          "model_name": "LayoutModel",
          "model_module_version": "1.2.0",
          "state": {
            "_model_module": "@jupyter-widgets/base",
            "_model_module_version": "1.2.0",
            "_model_name": "LayoutModel",
            "_view_count": null,
            "_view_module": "@jupyter-widgets/base",
            "_view_module_version": "1.2.0",
            "_view_name": "LayoutView",
            "align_content": null,
            "align_items": null,
            "align_self": null,
            "border": null,
            "bottom": null,
            "display": null,
            "flex": null,
            "flex_flow": null,
            "grid_area": null,
            "grid_auto_columns": null,
            "grid_auto_flow": null,
            "grid_auto_rows": null,
            "grid_column": null,
            "grid_gap": null,
            "grid_row": null,
            "grid_template_areas": null,
            "grid_template_columns": null,
            "grid_template_rows": null,
            "height": null,
            "justify_content": null,
            "justify_items": null,
            "left": null,
            "margin": null,
            "max_height": null,
            "max_width": null,
            "min_height": null,
            "min_width": null,
            "object_fit": null,
            "object_position": null,
            "order": null,
            "overflow": null,
            "overflow_x": null,
            "overflow_y": null,
            "padding": null,
            "right": null,
            "top": null,
            "visibility": null,
            "width": null
          }
        },
        "055911003e5e47d0b01cd2540dae9bc2": {
          "model_module": "@jupyter-widgets/controls",
          "model_name": "DescriptionStyleModel",
          "model_module_version": "1.5.0",
          "state": {
            "_model_module": "@jupyter-widgets/controls",
            "_model_module_version": "1.5.0",
            "_model_name": "DescriptionStyleModel",
            "_view_count": null,
            "_view_module": "@jupyter-widgets/base",
            "_view_module_version": "1.2.0",
            "_view_name": "StyleView",
            "description_width": ""
          }
        },
        "0413ab7b6a8b44f58dd758abfc1387a9": {
          "model_module": "@jupyter-widgets/controls",
          "model_name": "HBoxModel",
          "model_module_version": "1.5.0",
          "state": {
            "_dom_classes": [],
            "_model_module": "@jupyter-widgets/controls",
            "_model_module_version": "1.5.0",
            "_model_name": "HBoxModel",
            "_view_count": null,
            "_view_module": "@jupyter-widgets/controls",
            "_view_module_version": "1.5.0",
            "_view_name": "HBoxView",
            "box_style": "",
            "children": [
              "IPY_MODEL_5423bc5a7ef14a54b4606cfc2a5cdfb5",
              "IPY_MODEL_63de32f6702540158dccc1ddbe5c5b74",
              "IPY_MODEL_bcfc1c10f9c244b88353866666371361"
            ],
            "layout": "IPY_MODEL_d3d9cae3ccaa4eefb515c7c49ff17be7"
          }
        },
        "5423bc5a7ef14a54b4606cfc2a5cdfb5": {
          "model_module": "@jupyter-widgets/controls",
          "model_name": "HTMLModel",
          "model_module_version": "1.5.0",
          "state": {
            "_dom_classes": [],
            "_model_module": "@jupyter-widgets/controls",
            "_model_module_version": "1.5.0",
            "_model_name": "HTMLModel",
            "_view_count": null,
            "_view_module": "@jupyter-widgets/controls",
            "_view_module_version": "1.5.0",
            "_view_name": "HTMLView",
            "description": "",
            "description_tooltip": null,
            "layout": "IPY_MODEL_8123415a571b46f28340f92524dd50b2",
            "placeholder": "​",
            "style": "IPY_MODEL_f48c15d804354adea0bbf662e7ee966c",
            "value": ""
          }
        },
        "63de32f6702540158dccc1ddbe5c5b74": {
          "model_module": "@jupyter-widgets/controls",
          "model_name": "FloatProgressModel",
          "model_module_version": "1.5.0",
          "state": {
            "_dom_classes": [],
            "_model_module": "@jupyter-widgets/controls",
            "_model_module_version": "1.5.0",
            "_model_name": "FloatProgressModel",
            "_view_count": null,
            "_view_module": "@jupyter-widgets/controls",
            "_view_module_version": "1.5.0",
            "_view_name": "ProgressView",
            "bar_style": "success",
            "description": "",
            "description_tooltip": null,
            "layout": "IPY_MODEL_10a72fe8dc4249528445495677d727a2",
            "max": 28881,
            "min": 0,
            "orientation": "horizontal",
            "style": "IPY_MODEL_aee999fb2750464eabdc429f9d776f25",
            "value": 28881
          }
        },
        "bcfc1c10f9c244b88353866666371361": {
          "model_module": "@jupyter-widgets/controls",
          "model_name": "HTMLModel",
          "model_module_version": "1.5.0",
          "state": {
            "_dom_classes": [],
            "_model_module": "@jupyter-widgets/controls",
            "_model_module_version": "1.5.0",
            "_model_name": "HTMLModel",
            "_view_count": null,
            "_view_module": "@jupyter-widgets/controls",
            "_view_module_version": "1.5.0",
            "_view_name": "HTMLView",
            "description": "",
            "description_tooltip": null,
            "layout": "IPY_MODEL_31542032ba72438b88094dff27131cca",
            "placeholder": "​",
            "style": "IPY_MODEL_0ec607acd78540769cd1aeb18e94da87",
            "value": " 29696/? [00:00&lt;00:00, 770702.81it/s]"
          }
        },
        "d3d9cae3ccaa4eefb515c7c49ff17be7": {
          "model_module": "@jupyter-widgets/base",
          "model_name": "LayoutModel",
          "model_module_version": "1.2.0",
          "state": {
            "_model_module": "@jupyter-widgets/base",
            "_model_module_version": "1.2.0",
            "_model_name": "LayoutModel",
            "_view_count": null,
            "_view_module": "@jupyter-widgets/base",
            "_view_module_version": "1.2.0",
            "_view_name": "LayoutView",
            "align_content": null,
            "align_items": null,
            "align_self": null,
            "border": null,
            "bottom": null,
            "display": null,
            "flex": null,
            "flex_flow": null,
            "grid_area": null,
            "grid_auto_columns": null,
            "grid_auto_flow": null,
            "grid_auto_rows": null,
            "grid_column": null,
            "grid_gap": null,
            "grid_row": null,
            "grid_template_areas": null,
            "grid_template_columns": null,
            "grid_template_rows": null,
            "height": null,
            "justify_content": null,
            "justify_items": null,
            "left": null,
            "margin": null,
            "max_height": null,
            "max_width": null,
            "min_height": null,
            "min_width": null,
            "object_fit": null,
            "object_position": null,
            "order": null,
            "overflow": null,
            "overflow_x": null,
            "overflow_y": null,
            "padding": null,
            "right": null,
            "top": null,
            "visibility": null,
            "width": null
          }
        },
        "8123415a571b46f28340f92524dd50b2": {
          "model_module": "@jupyter-widgets/base",
          "model_name": "LayoutModel",
          "model_module_version": "1.2.0",
          "state": {
            "_model_module": "@jupyter-widgets/base",
            "_model_module_version": "1.2.0",
            "_model_name": "LayoutModel",
            "_view_count": null,
            "_view_module": "@jupyter-widgets/base",
            "_view_module_version": "1.2.0",
            "_view_name": "LayoutView",
            "align_content": null,
            "align_items": null,
            "align_self": null,
            "border": null,
            "bottom": null,
            "display": null,
            "flex": null,
            "flex_flow": null,
            "grid_area": null,
            "grid_auto_columns": null,
            "grid_auto_flow": null,
            "grid_auto_rows": null,
            "grid_column": null,
            "grid_gap": null,
            "grid_row": null,
            "grid_template_areas": null,
            "grid_template_columns": null,
            "grid_template_rows": null,
            "height": null,
            "justify_content": null,
            "justify_items": null,
            "left": null,
            "margin": null,
            "max_height": null,
            "max_width": null,
            "min_height": null,
            "min_width": null,
            "object_fit": null,
            "object_position": null,
            "order": null,
            "overflow": null,
            "overflow_x": null,
            "overflow_y": null,
            "padding": null,
            "right": null,
            "top": null,
            "visibility": null,
            "width": null
          }
        },
        "f48c15d804354adea0bbf662e7ee966c": {
          "model_module": "@jupyter-widgets/controls",
          "model_name": "DescriptionStyleModel",
          "model_module_version": "1.5.0",
          "state": {
            "_model_module": "@jupyter-widgets/controls",
            "_model_module_version": "1.5.0",
            "_model_name": "DescriptionStyleModel",
            "_view_count": null,
            "_view_module": "@jupyter-widgets/base",
            "_view_module_version": "1.2.0",
            "_view_name": "StyleView",
            "description_width": ""
          }
        },
        "10a72fe8dc4249528445495677d727a2": {
          "model_module": "@jupyter-widgets/base",
          "model_name": "LayoutModel",
          "model_module_version": "1.2.0",
          "state": {
            "_model_module": "@jupyter-widgets/base",
            "_model_module_version": "1.2.0",
            "_model_name": "LayoutModel",
            "_view_count": null,
            "_view_module": "@jupyter-widgets/base",
            "_view_module_version": "1.2.0",
            "_view_name": "LayoutView",
            "align_content": null,
            "align_items": null,
            "align_self": null,
            "border": null,
            "bottom": null,
            "display": null,
            "flex": null,
            "flex_flow": null,
            "grid_area": null,
            "grid_auto_columns": null,
            "grid_auto_flow": null,
            "grid_auto_rows": null,
            "grid_column": null,
            "grid_gap": null,
            "grid_row": null,
            "grid_template_areas": null,
            "grid_template_columns": null,
            "grid_template_rows": null,
            "height": null,
            "justify_content": null,
            "justify_items": null,
            "left": null,
            "margin": null,
            "max_height": null,
            "max_width": null,
            "min_height": null,
            "min_width": null,
            "object_fit": null,
            "object_position": null,
            "order": null,
            "overflow": null,
            "overflow_x": null,
            "overflow_y": null,
            "padding": null,
            "right": null,
            "top": null,
            "visibility": null,
            "width": null
          }
        },
        "aee999fb2750464eabdc429f9d776f25": {
          "model_module": "@jupyter-widgets/controls",
          "model_name": "ProgressStyleModel",
          "model_module_version": "1.5.0",
          "state": {
            "_model_module": "@jupyter-widgets/controls",
            "_model_module_version": "1.5.0",
            "_model_name": "ProgressStyleModel",
            "_view_count": null,
            "_view_module": "@jupyter-widgets/base",
            "_view_module_version": "1.2.0",
            "_view_name": "StyleView",
            "bar_color": null,
            "description_width": ""
          }
        },
        "31542032ba72438b88094dff27131cca": {
          "model_module": "@jupyter-widgets/base",
          "model_name": "LayoutModel",
          "model_module_version": "1.2.0",
          "state": {
            "_model_module": "@jupyter-widgets/base",
            "_model_module_version": "1.2.0",
            "_model_name": "LayoutModel",
            "_view_count": null,
            "_view_module": "@jupyter-widgets/base",
            "_view_module_version": "1.2.0",
            "_view_name": "LayoutView",
            "align_content": null,
            "align_items": null,
            "align_self": null,
            "border": null,
            "bottom": null,
            "display": null,
            "flex": null,
            "flex_flow": null,
            "grid_area": null,
            "grid_auto_columns": null,
            "grid_auto_flow": null,
            "grid_auto_rows": null,
            "grid_column": null,
            "grid_gap": null,
            "grid_row": null,
            "grid_template_areas": null,
            "grid_template_columns": null,
            "grid_template_rows": null,
            "height": null,
            "justify_content": null,
            "justify_items": null,
            "left": null,
            "margin": null,
            "max_height": null,
            "max_width": null,
            "min_height": null,
            "min_width": null,
            "object_fit": null,
            "object_position": null,
            "order": null,
            "overflow": null,
            "overflow_x": null,
            "overflow_y": null,
            "padding": null,
            "right": null,
            "top": null,
            "visibility": null,
            "width": null
          }
        },
        "0ec607acd78540769cd1aeb18e94da87": {
          "model_module": "@jupyter-widgets/controls",
          "model_name": "DescriptionStyleModel",
          "model_module_version": "1.5.0",
          "state": {
            "_model_module": "@jupyter-widgets/controls",
            "_model_module_version": "1.5.0",
            "_model_name": "DescriptionStyleModel",
            "_view_count": null,
            "_view_module": "@jupyter-widgets/base",
            "_view_module_version": "1.2.0",
            "_view_name": "StyleView",
            "description_width": ""
          }
        },
        "dd3b5e4c61e24a22a30d2f4a19d77580": {
          "model_module": "@jupyter-widgets/controls",
          "model_name": "HBoxModel",
          "model_module_version": "1.5.0",
          "state": {
            "_dom_classes": [],
            "_model_module": "@jupyter-widgets/controls",
            "_model_module_version": "1.5.0",
            "_model_name": "HBoxModel",
            "_view_count": null,
            "_view_module": "@jupyter-widgets/controls",
            "_view_module_version": "1.5.0",
            "_view_name": "HBoxView",
            "box_style": "",
            "children": [
              "IPY_MODEL_4a449fca7f33420d9357d8e3f42f665e",
              "IPY_MODEL_2a1d0525d84049a091027a667715750c",
              "IPY_MODEL_6c3a0a6140b3473b9c81fadf4f26b789"
            ],
            "layout": "IPY_MODEL_82ec9a11f8f04b818b8dd0a81d1d6837"
          }
        },
        "4a449fca7f33420d9357d8e3f42f665e": {
          "model_module": "@jupyter-widgets/controls",
          "model_name": "HTMLModel",
          "model_module_version": "1.5.0",
          "state": {
            "_dom_classes": [],
            "_model_module": "@jupyter-widgets/controls",
            "_model_module_version": "1.5.0",
            "_model_name": "HTMLModel",
            "_view_count": null,
            "_view_module": "@jupyter-widgets/controls",
            "_view_module_version": "1.5.0",
            "_view_name": "HTMLView",
            "description": "",
            "description_tooltip": null,
            "layout": "IPY_MODEL_61dea2edba8f49e1b3c0227f9dba5948",
            "placeholder": "​",
            "style": "IPY_MODEL_1526999448b443c48197d5ae00575018",
            "value": ""
          }
        },
        "2a1d0525d84049a091027a667715750c": {
          "model_module": "@jupyter-widgets/controls",
          "model_name": "FloatProgressModel",
          "model_module_version": "1.5.0",
          "state": {
            "_dom_classes": [],
            "_model_module": "@jupyter-widgets/controls",
            "_model_module_version": "1.5.0",
            "_model_name": "FloatProgressModel",
            "_view_count": null,
            "_view_module": "@jupyter-widgets/controls",
            "_view_module_version": "1.5.0",
            "_view_name": "ProgressView",
            "bar_style": "success",
            "description": "",
            "description_tooltip": null,
            "layout": "IPY_MODEL_e2492c685d6245ad9ec5f3d04eb87300",
            "max": 1648877,
            "min": 0,
            "orientation": "horizontal",
            "style": "IPY_MODEL_10ffa7a8df2847dda51948f8f14428ff",
            "value": 1648877
          }
        },
        "6c3a0a6140b3473b9c81fadf4f26b789": {
          "model_module": "@jupyter-widgets/controls",
          "model_name": "HTMLModel",
          "model_module_version": "1.5.0",
          "state": {
            "_dom_classes": [],
            "_model_module": "@jupyter-widgets/controls",
            "_model_module_version": "1.5.0",
            "_model_name": "HTMLModel",
            "_view_count": null,
            "_view_module": "@jupyter-widgets/controls",
            "_view_module_version": "1.5.0",
            "_view_name": "HTMLView",
            "description": "",
            "description_tooltip": null,
            "layout": "IPY_MODEL_006eb42814d34b26aab5c7d64bef882a",
            "placeholder": "​",
            "style": "IPY_MODEL_5fa0c4f510ce48629629f94394bee933",
            "value": " 1649664/? [00:00&lt;00:00, 10086048.91it/s]"
          }
        },
        "82ec9a11f8f04b818b8dd0a81d1d6837": {
          "model_module": "@jupyter-widgets/base",
          "model_name": "LayoutModel",
          "model_module_version": "1.2.0",
          "state": {
            "_model_module": "@jupyter-widgets/base",
            "_model_module_version": "1.2.0",
            "_model_name": "LayoutModel",
            "_view_count": null,
            "_view_module": "@jupyter-widgets/base",
            "_view_module_version": "1.2.0",
            "_view_name": "LayoutView",
            "align_content": null,
            "align_items": null,
            "align_self": null,
            "border": null,
            "bottom": null,
            "display": null,
            "flex": null,
            "flex_flow": null,
            "grid_area": null,
            "grid_auto_columns": null,
            "grid_auto_flow": null,
            "grid_auto_rows": null,
            "grid_column": null,
            "grid_gap": null,
            "grid_row": null,
            "grid_template_areas": null,
            "grid_template_columns": null,
            "grid_template_rows": null,
            "height": null,
            "justify_content": null,
            "justify_items": null,
            "left": null,
            "margin": null,
            "max_height": null,
            "max_width": null,
            "min_height": null,
            "min_width": null,
            "object_fit": null,
            "object_position": null,
            "order": null,
            "overflow": null,
            "overflow_x": null,
            "overflow_y": null,
            "padding": null,
            "right": null,
            "top": null,
            "visibility": null,
            "width": null
          }
        },
        "61dea2edba8f49e1b3c0227f9dba5948": {
          "model_module": "@jupyter-widgets/base",
          "model_name": "LayoutModel",
          "model_module_version": "1.2.0",
          "state": {
            "_model_module": "@jupyter-widgets/base",
            "_model_module_version": "1.2.0",
            "_model_name": "LayoutModel",
            "_view_count": null,
            "_view_module": "@jupyter-widgets/base",
            "_view_module_version": "1.2.0",
            "_view_name": "LayoutView",
            "align_content": null,
            "align_items": null,
            "align_self": null,
            "border": null,
            "bottom": null,
            "display": null,
            "flex": null,
            "flex_flow": null,
            "grid_area": null,
            "grid_auto_columns": null,
            "grid_auto_flow": null,
            "grid_auto_rows": null,
            "grid_column": null,
            "grid_gap": null,
            "grid_row": null,
            "grid_template_areas": null,
            "grid_template_columns": null,
            "grid_template_rows": null,
            "height": null,
            "justify_content": null,
            "justify_items": null,
            "left": null,
            "margin": null,
            "max_height": null,
            "max_width": null,
            "min_height": null,
            "min_width": null,
            "object_fit": null,
            "object_position": null,
            "order": null,
            "overflow": null,
            "overflow_x": null,
            "overflow_y": null,
            "padding": null,
            "right": null,
            "top": null,
            "visibility": null,
            "width": null
          }
        },
        "1526999448b443c48197d5ae00575018": {
          "model_module": "@jupyter-widgets/controls",
          "model_name": "DescriptionStyleModel",
          "model_module_version": "1.5.0",
          "state": {
            "_model_module": "@jupyter-widgets/controls",
            "_model_module_version": "1.5.0",
            "_model_name": "DescriptionStyleModel",
            "_view_count": null,
            "_view_module": "@jupyter-widgets/base",
            "_view_module_version": "1.2.0",
            "_view_name": "StyleView",
            "description_width": ""
          }
        },
        "e2492c685d6245ad9ec5f3d04eb87300": {
          "model_module": "@jupyter-widgets/base",
          "model_name": "LayoutModel",
          "model_module_version": "1.2.0",
          "state": {
            "_model_module": "@jupyter-widgets/base",
            "_model_module_version": "1.2.0",
            "_model_name": "LayoutModel",
            "_view_count": null,
            "_view_module": "@jupyter-widgets/base",
            "_view_module_version": "1.2.0",
            "_view_name": "LayoutView",
            "align_content": null,
            "align_items": null,
            "align_self": null,
            "border": null,
            "bottom": null,
            "display": null,
            "flex": null,
            "flex_flow": null,
            "grid_area": null,
            "grid_auto_columns": null,
            "grid_auto_flow": null,
            "grid_auto_rows": null,
            "grid_column": null,
            "grid_gap": null,
            "grid_row": null,
            "grid_template_areas": null,
            "grid_template_columns": null,
            "grid_template_rows": null,
            "height": null,
            "justify_content": null,
            "justify_items": null,
            "left": null,
            "margin": null,
            "max_height": null,
            "max_width": null,
            "min_height": null,
            "min_width": null,
            "object_fit": null,
            "object_position": null,
            "order": null,
            "overflow": null,
            "overflow_x": null,
            "overflow_y": null,
            "padding": null,
            "right": null,
            "top": null,
            "visibility": null,
            "width": null
          }
        },
        "10ffa7a8df2847dda51948f8f14428ff": {
          "model_module": "@jupyter-widgets/controls",
          "model_name": "ProgressStyleModel",
          "model_module_version": "1.5.0",
          "state": {
            "_model_module": "@jupyter-widgets/controls",
            "_model_module_version": "1.5.0",
            "_model_name": "ProgressStyleModel",
            "_view_count": null,
            "_view_module": "@jupyter-widgets/base",
            "_view_module_version": "1.2.0",
            "_view_name": "StyleView",
            "bar_color": null,
            "description_width": ""
          }
        },
        "006eb42814d34b26aab5c7d64bef882a": {
          "model_module": "@jupyter-widgets/base",
          "model_name": "LayoutModel",
          "model_module_version": "1.2.0",
          "state": {
            "_model_module": "@jupyter-widgets/base",
            "_model_module_version": "1.2.0",
            "_model_name": "LayoutModel",
            "_view_count": null,
            "_view_module": "@jupyter-widgets/base",
            "_view_module_version": "1.2.0",
            "_view_name": "LayoutView",
            "align_content": null,
            "align_items": null,
            "align_self": null,
            "border": null,
            "bottom": null,
            "display": null,
            "flex": null,
            "flex_flow": null,
            "grid_area": null,
            "grid_auto_columns": null,
            "grid_auto_flow": null,
            "grid_auto_rows": null,
            "grid_column": null,
            "grid_gap": null,
            "grid_row": null,
            "grid_template_areas": null,
            "grid_template_columns": null,
            "grid_template_rows": null,
            "height": null,
            "justify_content": null,
            "justify_items": null,
            "left": null,
            "margin": null,
            "max_height": null,
            "max_width": null,
            "min_height": null,
            "min_width": null,
            "object_fit": null,
            "object_position": null,
            "order": null,
            "overflow": null,
            "overflow_x": null,
            "overflow_y": null,
            "padding": null,
            "right": null,
            "top": null,
            "visibility": null,
            "width": null
          }
        },
        "5fa0c4f510ce48629629f94394bee933": {
          "model_module": "@jupyter-widgets/controls",
          "model_name": "DescriptionStyleModel",
          "model_module_version": "1.5.0",
          "state": {
            "_model_module": "@jupyter-widgets/controls",
            "_model_module_version": "1.5.0",
            "_model_name": "DescriptionStyleModel",
            "_view_count": null,
            "_view_module": "@jupyter-widgets/base",
            "_view_module_version": "1.2.0",
            "_view_name": "StyleView",
            "description_width": ""
          }
        },
        "6cfacd0cde464706940ae58c8e948be6": {
          "model_module": "@jupyter-widgets/controls",
          "model_name": "HBoxModel",
          "model_module_version": "1.5.0",
          "state": {
            "_dom_classes": [],
            "_model_module": "@jupyter-widgets/controls",
            "_model_module_version": "1.5.0",
            "_model_name": "HBoxModel",
            "_view_count": null,
            "_view_module": "@jupyter-widgets/controls",
            "_view_module_version": "1.5.0",
            "_view_name": "HBoxView",
            "box_style": "",
            "children": [
              "IPY_MODEL_5ed41f64a20045da9f888bd2aba2b1a1",
              "IPY_MODEL_7c6be1090c4b4847b0a961190954f1ce",
              "IPY_MODEL_b2ca36720b36461699c3ceea38d1e7b8"
            ],
            "layout": "IPY_MODEL_b577e39510f24c92a560f46b084f19d7"
          }
        },
        "5ed41f64a20045da9f888bd2aba2b1a1": {
          "model_module": "@jupyter-widgets/controls",
          "model_name": "HTMLModel",
          "model_module_version": "1.5.0",
          "state": {
            "_dom_classes": [],
            "_model_module": "@jupyter-widgets/controls",
            "_model_module_version": "1.5.0",
            "_model_name": "HTMLModel",
            "_view_count": null,
            "_view_module": "@jupyter-widgets/controls",
            "_view_module_version": "1.5.0",
            "_view_name": "HTMLView",
            "description": "",
            "description_tooltip": null,
            "layout": "IPY_MODEL_093624e72e884396b2d231c1824ba44f",
            "placeholder": "​",
            "style": "IPY_MODEL_98883d5f87f04ccea919c324836a7ec6",
            "value": ""
          }
        },
        "7c6be1090c4b4847b0a961190954f1ce": {
          "model_module": "@jupyter-widgets/controls",
          "model_name": "FloatProgressModel",
          "model_module_version": "1.5.0",
          "state": {
            "_dom_classes": [],
            "_model_module": "@jupyter-widgets/controls",
            "_model_module_version": "1.5.0",
            "_model_name": "FloatProgressModel",
            "_view_count": null,
            "_view_module": "@jupyter-widgets/controls",
            "_view_module_version": "1.5.0",
            "_view_name": "ProgressView",
            "bar_style": "success",
            "description": "",
            "description_tooltip": null,
            "layout": "IPY_MODEL_1e69b7905229433ba059c68db7f69dc7",
            "max": 4542,
            "min": 0,
            "orientation": "horizontal",
            "style": "IPY_MODEL_7ca4665193824789a8b95f85d6625d51",
            "value": 4542
          }
        },
        "b2ca36720b36461699c3ceea38d1e7b8": {
          "model_module": "@jupyter-widgets/controls",
          "model_name": "HTMLModel",
          "model_module_version": "1.5.0",
          "state": {
            "_dom_classes": [],
            "_model_module": "@jupyter-widgets/controls",
            "_model_module_version": "1.5.0",
            "_model_name": "HTMLModel",
            "_view_count": null,
            "_view_module": "@jupyter-widgets/controls",
            "_view_module_version": "1.5.0",
            "_view_name": "HTMLView",
            "description": "",
            "description_tooltip": null,
            "layout": "IPY_MODEL_14522386bc1844548c19a3bf70806d00",
            "placeholder": "​",
            "style": "IPY_MODEL_e49bf9a762eb48178cd6b0af461670d9",
            "value": " 5120/? [00:00&lt;00:00, 95080.30it/s]"
          }
        },
        "b577e39510f24c92a560f46b084f19d7": {
          "model_module": "@jupyter-widgets/base",
          "model_name": "LayoutModel",
          "model_module_version": "1.2.0",
          "state": {
            "_model_module": "@jupyter-widgets/base",
            "_model_module_version": "1.2.0",
            "_model_name": "LayoutModel",
            "_view_count": null,
            "_view_module": "@jupyter-widgets/base",
            "_view_module_version": "1.2.0",
            "_view_name": "LayoutView",
            "align_content": null,
            "align_items": null,
            "align_self": null,
            "border": null,
            "bottom": null,
            "display": null,
            "flex": null,
            "flex_flow": null,
            "grid_area": null,
            "grid_auto_columns": null,
            "grid_auto_flow": null,
            "grid_auto_rows": null,
            "grid_column": null,
            "grid_gap": null,
            "grid_row": null,
            "grid_template_areas": null,
            "grid_template_columns": null,
            "grid_template_rows": null,
            "height": null,
            "justify_content": null,
            "justify_items": null,
            "left": null,
            "margin": null,
            "max_height": null,
            "max_width": null,
            "min_height": null,
            "min_width": null,
            "object_fit": null,
            "object_position": null,
            "order": null,
            "overflow": null,
            "overflow_x": null,
            "overflow_y": null,
            "padding": null,
            "right": null,
            "top": null,
            "visibility": null,
            "width": null
          }
        },
        "093624e72e884396b2d231c1824ba44f": {
          "model_module": "@jupyter-widgets/base",
          "model_name": "LayoutModel",
          "model_module_version": "1.2.0",
          "state": {
            "_model_module": "@jupyter-widgets/base",
            "_model_module_version": "1.2.0",
            "_model_name": "LayoutModel",
            "_view_count": null,
            "_view_module": "@jupyter-widgets/base",
            "_view_module_version": "1.2.0",
            "_view_name": "LayoutView",
            "align_content": null,
            "align_items": null,
            "align_self": null,
            "border": null,
            "bottom": null,
            "display": null,
            "flex": null,
            "flex_flow": null,
            "grid_area": null,
            "grid_auto_columns": null,
            "grid_auto_flow": null,
            "grid_auto_rows": null,
            "grid_column": null,
            "grid_gap": null,
            "grid_row": null,
            "grid_template_areas": null,
            "grid_template_columns": null,
            "grid_template_rows": null,
            "height": null,
            "justify_content": null,
            "justify_items": null,
            "left": null,
            "margin": null,
            "max_height": null,
            "max_width": null,
            "min_height": null,
            "min_width": null,
            "object_fit": null,
            "object_position": null,
            "order": null,
            "overflow": null,
            "overflow_x": null,
            "overflow_y": null,
            "padding": null,
            "right": null,
            "top": null,
            "visibility": null,
            "width": null
          }
        },
        "98883d5f87f04ccea919c324836a7ec6": {
          "model_module": "@jupyter-widgets/controls",
          "model_name": "DescriptionStyleModel",
          "model_module_version": "1.5.0",
          "state": {
            "_model_module": "@jupyter-widgets/controls",
            "_model_module_version": "1.5.0",
            "_model_name": "DescriptionStyleModel",
            "_view_count": null,
            "_view_module": "@jupyter-widgets/base",
            "_view_module_version": "1.2.0",
            "_view_name": "StyleView",
            "description_width": ""
          }
        },
        "1e69b7905229433ba059c68db7f69dc7": {
          "model_module": "@jupyter-widgets/base",
          "model_name": "LayoutModel",
          "model_module_version": "1.2.0",
          "state": {
            "_model_module": "@jupyter-widgets/base",
            "_model_module_version": "1.2.0",
            "_model_name": "LayoutModel",
            "_view_count": null,
            "_view_module": "@jupyter-widgets/base",
            "_view_module_version": "1.2.0",
            "_view_name": "LayoutView",
            "align_content": null,
            "align_items": null,
            "align_self": null,
            "border": null,
            "bottom": null,
            "display": null,
            "flex": null,
            "flex_flow": null,
            "grid_area": null,
            "grid_auto_columns": null,
            "grid_auto_flow": null,
            "grid_auto_rows": null,
            "grid_column": null,
            "grid_gap": null,
            "grid_row": null,
            "grid_template_areas": null,
            "grid_template_columns": null,
            "grid_template_rows": null,
            "height": null,
            "justify_content": null,
            "justify_items": null,
            "left": null,
            "margin": null,
            "max_height": null,
            "max_width": null,
            "min_height": null,
            "min_width": null,
            "object_fit": null,
            "object_position": null,
            "order": null,
            "overflow": null,
            "overflow_x": null,
            "overflow_y": null,
            "padding": null,
            "right": null,
            "top": null,
            "visibility": null,
            "width": null
          }
        },
        "7ca4665193824789a8b95f85d6625d51": {
          "model_module": "@jupyter-widgets/controls",
          "model_name": "ProgressStyleModel",
          "model_module_version": "1.5.0",
          "state": {
            "_model_module": "@jupyter-widgets/controls",
            "_model_module_version": "1.5.0",
            "_model_name": "ProgressStyleModel",
            "_view_count": null,
            "_view_module": "@jupyter-widgets/base",
            "_view_module_version": "1.2.0",
            "_view_name": "StyleView",
            "bar_color": null,
            "description_width": ""
          }
        },
        "14522386bc1844548c19a3bf70806d00": {
          "model_module": "@jupyter-widgets/base",
          "model_name": "LayoutModel",
          "model_module_version": "1.2.0",
          "state": {
            "_model_module": "@jupyter-widgets/base",
            "_model_module_version": "1.2.0",
            "_model_name": "LayoutModel",
            "_view_count": null,
            "_view_module": "@jupyter-widgets/base",
            "_view_module_version": "1.2.0",
            "_view_name": "LayoutView",
            "align_content": null,
            "align_items": null,
            "align_self": null,
            "border": null,
            "bottom": null,
            "display": null,
            "flex": null,
            "flex_flow": null,
            "grid_area": null,
            "grid_auto_columns": null,
            "grid_auto_flow": null,
            "grid_auto_rows": null,
            "grid_column": null,
            "grid_gap": null,
            "grid_row": null,
            "grid_template_areas": null,
            "grid_template_columns": null,
            "grid_template_rows": null,
            "height": null,
            "justify_content": null,
            "justify_items": null,
            "left": null,
            "margin": null,
            "max_height": null,
            "max_width": null,
            "min_height": null,
            "min_width": null,
            "object_fit": null,
            "object_position": null,
            "order": null,
            "overflow": null,
            "overflow_x": null,
            "overflow_y": null,
            "padding": null,
            "right": null,
            "top": null,
            "visibility": null,
            "width": null
          }
        },
        "e49bf9a762eb48178cd6b0af461670d9": {
          "model_module": "@jupyter-widgets/controls",
          "model_name": "DescriptionStyleModel",
          "model_module_version": "1.5.0",
          "state": {
            "_model_module": "@jupyter-widgets/controls",
            "_model_module_version": "1.5.0",
            "_model_name": "DescriptionStyleModel",
            "_view_count": null,
            "_view_module": "@jupyter-widgets/base",
            "_view_module_version": "1.2.0",
            "_view_name": "StyleView",
            "description_width": ""
          }
        }
      }
    }
  },
  "cells": [
    {
      "cell_type": "markdown",
      "metadata": {
        "id": "view-in-github",
        "colab_type": "text"
      },
      "source": [
        "<a href=\"https://colab.research.google.com/github/fridymandita/KCBV/blob/main/Fully_Connected_NN.ipynb\" target=\"_parent\"><img src=\"https://colab.research.google.com/assets/colab-badge.svg\" alt=\"Open In Colab\"/></a>"
      ]
    },
    {
      "cell_type": "markdown",
      "source": [
        "# Fully Connected Net"
      ],
      "metadata": {
        "id": "oMFFQiCt3HUf"
      }
    },
    {
      "cell_type": "code",
      "source": [
        "import torch\n",
        "import torchvision\n",
        "import matplotlib.pyplot as plt\n",
        "\n",
        "import torch.nn as nn\n",
        "import torch.optim as optim"
      ],
      "metadata": {
        "id": "9q0s2ici3JYN"
      },
      "execution_count": null,
      "outputs": []
    },
    {
      "cell_type": "code",
      "source": [
        "dataset_save_path = '../data/'\n",
        "\n",
        "# download the train dataset\n",
        "dataset_train = torchvision.datasets.MNIST(dataset_save_path, train=True, download=True)"
      ],
      "metadata": {
        "colab": {
          "base_uri": "https://localhost:8080/",
          "height": 423,
          "referenced_widgets": [
            "20eddcbe23604ea28fe071749cbcdf9c",
            "bc79d7e3cceb4c01b620c731b7e9db64",
            "dc282c70b13b426cbd6ca1a5cd6ea540",
            "4b4488aaab0a4ddba9f698f77a798295",
            "a5ea45dde80842b38b4b6745c05bd6ea",
            "0d1e4bff90114605ac20b6221d4911a2",
            "06ebfe22d0cb4ffbb062a4cdfbb0aff8",
            "81cd27d0747d4e3ea096ac6336e526cf",
            "240efe0f59fb4d1f9fbcf97310adb3d3",
            "b759bf00a261484388a83db7762e3bcd",
            "055911003e5e47d0b01cd2540dae9bc2",
            "0413ab7b6a8b44f58dd758abfc1387a9",
            "5423bc5a7ef14a54b4606cfc2a5cdfb5",
            "63de32f6702540158dccc1ddbe5c5b74",
            "bcfc1c10f9c244b88353866666371361",
            "d3d9cae3ccaa4eefb515c7c49ff17be7",
            "8123415a571b46f28340f92524dd50b2",
            "f48c15d804354adea0bbf662e7ee966c",
            "10a72fe8dc4249528445495677d727a2",
            "aee999fb2750464eabdc429f9d776f25",
            "31542032ba72438b88094dff27131cca",
            "0ec607acd78540769cd1aeb18e94da87",
            "dd3b5e4c61e24a22a30d2f4a19d77580",
            "4a449fca7f33420d9357d8e3f42f665e",
            "2a1d0525d84049a091027a667715750c",
            "6c3a0a6140b3473b9c81fadf4f26b789",
            "82ec9a11f8f04b818b8dd0a81d1d6837",
            "61dea2edba8f49e1b3c0227f9dba5948",
            "1526999448b443c48197d5ae00575018",
            "e2492c685d6245ad9ec5f3d04eb87300",
            "10ffa7a8df2847dda51948f8f14428ff",
            "006eb42814d34b26aab5c7d64bef882a",
            "5fa0c4f510ce48629629f94394bee933",
            "6cfacd0cde464706940ae58c8e948be6",
            "5ed41f64a20045da9f888bd2aba2b1a1",
            "7c6be1090c4b4847b0a961190954f1ce",
            "b2ca36720b36461699c3ceea38d1e7b8",
            "b577e39510f24c92a560f46b084f19d7",
            "093624e72e884396b2d231c1824ba44f",
            "98883d5f87f04ccea919c324836a7ec6",
            "1e69b7905229433ba059c68db7f69dc7",
            "7ca4665193824789a8b95f85d6625d51",
            "14522386bc1844548c19a3bf70806d00",
            "e49bf9a762eb48178cd6b0af461670d9"
          ]
        },
        "id": "7l1STqkL3aLw",
        "outputId": "5dd618ab-3d0b-4ce4-c42f-6812920a979e"
      },
      "execution_count": null,
      "outputs": [
        {
          "output_type": "stream",
          "name": "stdout",
          "text": [
            "Downloading http://yann.lecun.com/exdb/mnist/train-images-idx3-ubyte.gz\n",
            "Downloading http://yann.lecun.com/exdb/mnist/train-images-idx3-ubyte.gz to ../data/MNIST/raw/train-images-idx3-ubyte.gz\n"
          ]
        },
        {
          "output_type": "display_data",
          "data": {
            "text/plain": [
              "  0%|          | 0/9912422 [00:00<?, ?it/s]"
            ],
            "application/vnd.jupyter.widget-view+json": {
              "version_major": 2,
              "version_minor": 0,
              "model_id": "20eddcbe23604ea28fe071749cbcdf9c"
            }
          },
          "metadata": {}
        },
        {
          "output_type": "stream",
          "name": "stdout",
          "text": [
            "Extracting ../data/MNIST/raw/train-images-idx3-ubyte.gz to ../data/MNIST/raw\n",
            "\n",
            "Downloading http://yann.lecun.com/exdb/mnist/train-labels-idx1-ubyte.gz\n",
            "Downloading http://yann.lecun.com/exdb/mnist/train-labels-idx1-ubyte.gz to ../data/MNIST/raw/train-labels-idx1-ubyte.gz\n"
          ]
        },
        {
          "output_type": "display_data",
          "data": {
            "text/plain": [
              "  0%|          | 0/28881 [00:00<?, ?it/s]"
            ],
            "application/vnd.jupyter.widget-view+json": {
              "version_major": 2,
              "version_minor": 0,
              "model_id": "0413ab7b6a8b44f58dd758abfc1387a9"
            }
          },
          "metadata": {}
        },
        {
          "output_type": "stream",
          "name": "stdout",
          "text": [
            "Extracting ../data/MNIST/raw/train-labels-idx1-ubyte.gz to ../data/MNIST/raw\n",
            "\n",
            "Downloading http://yann.lecun.com/exdb/mnist/t10k-images-idx3-ubyte.gz\n",
            "Downloading http://yann.lecun.com/exdb/mnist/t10k-images-idx3-ubyte.gz to ../data/MNIST/raw/t10k-images-idx3-ubyte.gz\n"
          ]
        },
        {
          "output_type": "display_data",
          "data": {
            "text/plain": [
              "  0%|          | 0/1648877 [00:00<?, ?it/s]"
            ],
            "application/vnd.jupyter.widget-view+json": {
              "version_major": 2,
              "version_minor": 0,
              "model_id": "dd3b5e4c61e24a22a30d2f4a19d77580"
            }
          },
          "metadata": {}
        },
        {
          "output_type": "stream",
          "name": "stdout",
          "text": [
            "Extracting ../data/MNIST/raw/t10k-images-idx3-ubyte.gz to ../data/MNIST/raw\n",
            "\n",
            "Downloading http://yann.lecun.com/exdb/mnist/t10k-labels-idx1-ubyte.gz\n",
            "Downloading http://yann.lecun.com/exdb/mnist/t10k-labels-idx1-ubyte.gz to ../data/MNIST/raw/t10k-labels-idx1-ubyte.gz\n"
          ]
        },
        {
          "output_type": "display_data",
          "data": {
            "text/plain": [
              "  0%|          | 0/4542 [00:00<?, ?it/s]"
            ],
            "application/vnd.jupyter.widget-view+json": {
              "version_major": 2,
              "version_minor": 0,
              "model_id": "6cfacd0cde464706940ae58c8e948be6"
            }
          },
          "metadata": {}
        },
        {
          "output_type": "stream",
          "name": "stdout",
          "text": [
            "Extracting ../data/MNIST/raw/t10k-labels-idx1-ubyte.gz to ../data/MNIST/raw\n",
            "\n"
          ]
        }
      ]
    },
    {
      "cell_type": "code",
      "source": [
        "print(dataset_train.data.shape)\n",
        "print(dataset_train.data.max())\n",
        "\n",
        "print(dataset_train.targets.shape)\n",
        "print(dataset_train.targets.max())\n"
      ],
      "metadata": {
        "colab": {
          "base_uri": "https://localhost:8080/"
        },
        "id": "dOG23CxD3u79",
        "outputId": "5ad2a95d-40ff-4aff-e321-0aae5878cd26"
      },
      "execution_count": null,
      "outputs": [
        {
          "output_type": "stream",
          "name": "stdout",
          "text": [
            "torch.Size([60000, 28, 28])\n",
            "tensor(255, dtype=torch.uint8)\n",
            "torch.Size([60000])\n",
            "tensor(9)\n"
          ]
        }
      ]
    },
    {
      "cell_type": "code",
      "source": [
        "figure = plt.figure()\n",
        "num_of_images = 60\n",
        "for index in range(num_of_images):\n",
        "    plt.subplot(6, 10, index+1)\n",
        "    plt.axis('off')\n",
        "    plt.imshow(dataset_train.data[index,:,:], cmap='gray')\n",
        "    plt.title(int(dataset_train.targets[index]))\n",
        "plt.tight_layout()\n"
      ],
      "metadata": {
        "colab": {
          "base_uri": "https://localhost:8080/",
          "height": 299
        },
        "id": "rfC37qOk3xc5",
        "outputId": "fa2127cc-9464-4358-c22a-6540041fa432"
      },
      "execution_count": null,
      "outputs": [
        {
          "output_type": "display_data",
          "data": {
            "text/plain": [
              "<Figure size 432x288 with 60 Axes>"
            ],
            "image/png": "[encoded data removed]"
          },
          "metadata": {
            "needs_background": "light"
          }
        }
      ]
    },
    {
      "cell_type": "markdown",
      "source": [
        "### Get the mean and std of the data"
      ],
      "metadata": {
        "id": "8EZY8fpa4BuM"
      }
    },
    {
      "cell_type": "code",
      "source": [
        "dataset_01 = dataset_train.data.double()/255\n",
        "print(dataset_01.max())\n",
        "print(torch.mean(dataset_01))\n",
        "print(torch.std(dataset_01))"
      ],
      "metadata": {
        "colab": {
          "base_uri": "https://localhost:8080/"
        },
        "id": "j8S60CM14DdT",
        "outputId": "ee7570e9-00de-490c-f1d1-7833f3cdb9d8"
      },
      "execution_count": null,
      "outputs": [
        {
          "output_type": "stream",
          "name": "stdout",
          "text": [
            "tensor(1., dtype=torch.float64)\n",
            "tensor(0.1307, dtype=torch.float64)\n",
            "tensor(0.3081, dtype=torch.float64)\n"
          ]
        }
      ]
    },
    {
      "cell_type": "markdown",
      "source": [
        "## Prepare the data\n"
      ],
      "metadata": {
        "id": "H4_cvdjz4KXn"
      }
    },
    {
      "cell_type": "code",
      "source": [
        "# function that acts on the data as a pre-processing stage\n",
        "mnist_transform = torchvision.transforms.Compose([\n",
        "                              torchvision.transforms.ToTensor(), # transforms the dataset to tensor from PIL/numpy + scale: [0,255] -> [0,1]\n",
        "                              torchvision.transforms.Normalize(0.1307, 0.3081) # mean & std of train set\n",
        "                             ]) \n",
        "\n",
        "# download the train and test dataset\n",
        "# Note: this transformation `mnist_transform` will be activated only upon dataloader call\n",
        "dataset_train = torchvision.datasets.MNIST(dataset_save_path, train=True, download=True,\n",
        "                             transform=mnist_transform)\n",
        "dataset_test = torchvision.datasets.MNIST(dataset_save_path, train=False, download=True,\n",
        "                             transform=mnist_transform)\n"
      ],
      "metadata": {
        "id": "8Z4-10vy4LBx"
      },
      "execution_count": null,
      "outputs": []
    },
    {
      "cell_type": "code",
      "source": [
        "batch_size_train = 64\n",
        "batch_size_test = 1000 # the test batch size is larger because this is less compute intensive\n",
        "\n",
        "\n",
        "train_loader = torch.utils.data.DataLoader(dataset_train, batch_size=batch_size_train, shuffle=True)\n",
        "test_loader = torch.utils.data.DataLoader(dataset_test, batch_size=batch_size_test, shuffle=True)\n",
        "# shuffle: set to True to have the data reshuffled at every epoch"
      ],
      "metadata": {
        "id": "n8pePtup4Pnd"
      },
      "execution_count": null,
      "outputs": []
    },
    {
      "cell_type": "markdown",
      "source": [
        "## Build a NN"
      ],
      "metadata": {
        "id": "Mc9O3KQk4RON"
      }
    },
    {
      "cell_type": "markdown",
      "source": [
        "![image.png](data:image/png;base64,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)"
      ],
      "metadata": {
        "id": "779GUkJj4on7"
      }
    },
    {
      "cell_type": "code",
      "source": [
        "input_size = 28*28\n",
        "hidden_sizes = [128, 64]\n",
        "output_size = 10 # Num classes\n",
        "\n",
        "model = nn.Sequential(nn.Flatten(),\n",
        "                      nn.Linear(input_size, hidden_sizes[0]),\n",
        "                      nn.ReLU(),\n",
        "                      nn.Linear(hidden_sizes[0], hidden_sizes[1]),\n",
        "                      nn.ReLU(),\n",
        "                      nn.Linear(hidden_sizes[1], output_size),\n",
        "                      nn.Softmax(dim=1))\n",
        "print(model)"
      ],
      "metadata": {
        "colab": {
          "base_uri": "https://localhost:8080/"
        },
        "id": "GQrbSVLv4TOD",
        "outputId": "19625f6b-8df5-42d4-c089-7701a74ac790"
      },
      "execution_count": null,
      "outputs": [
        {
          "output_type": "stream",
          "name": "stdout",
          "text": [
            "Sequential(\n",
            "  (0): Flatten(start_dim=1, end_dim=-1)\n",
            "  (1): Linear(in_features=784, out_features=128, bias=True)\n",
            "  (2): ReLU()\n",
            "  (3): Linear(in_features=128, out_features=64, bias=True)\n",
            "  (4): ReLU()\n",
            "  (5): Linear(in_features=64, out_features=10, bias=True)\n",
            "  (6): Softmax(dim=1)\n",
            ")\n"
          ]
        }
      ]
    },
    {
      "cell_type": "markdown",
      "source": [
        "### Get the device on which we will work"
      ],
      "metadata": {
        "id": "-e6Nvrhs400Z"
      }
    },
    {
      "cell_type": "code",
      "source": [
        "print(f\" is cuda available: {torch.cuda.is_available()}\")\n",
        "device = torch.device(\"cuda\" if torch.cuda.is_available() else \"cpu\")"
      ],
      "metadata": {
        "colab": {
          "base_uri": "https://localhost:8080/"
        },
        "id": "Zt6SrA9q41hg",
        "outputId": "bbec123f-e7fb-48d8-ec52-a7d2437fdf68"
      },
      "execution_count": null,
      "outputs": [
        {
          "output_type": "stream",
          "name": "stdout",
          "text": [
            " is cuda available: False\n"
          ]
        }
      ]
    },
    {
      "cell_type": "code",
      "source": [
        "model.to(device)"
      ],
      "metadata": {
        "colab": {
          "base_uri": "https://localhost:8080/"
        },
        "id": "6fxu5qio48Xi",
        "outputId": "70e8fa6a-b876-4ec4-e05b-bad1f4fa17e6"
      },
      "execution_count": null,
      "outputs": [
        {
          "output_type": "execute_result",
          "data": {
            "text/plain": [
              "Sequential(\n",
              "  (0): Flatten(start_dim=1, end_dim=-1)\n",
              "  (1): Linear(in_features=784, out_features=128, bias=True)\n",
              "  (2): ReLU()\n",
              "  (3): Linear(in_features=128, out_features=64, bias=True)\n",
              "  (4): ReLU()\n",
              "  (5): Linear(in_features=64, out_features=10, bias=True)\n",
              "  (6): Softmax(dim=1)\n",
              ")"
            ]
          },
          "metadata": {},
          "execution_count": 11
        }
      ]
    },
    {
      "cell_type": "markdown",
      "source": [
        "## Evaluate your model"
      ],
      "metadata": {
        "id": "pVkD9hrH5Cfn"
      }
    },
    {
      "cell_type": "code",
      "source": [
        "def test(model,test_loader):\n",
        "    model.eval()\n",
        "    correct = 0\n",
        "    total = 0\n",
        "    with torch.no_grad():\n",
        "        for images, labels in test_loader:\n",
        "            # Move batch to device\n",
        "            images = images.to(device)\n",
        "            labels = labels.to(device)\n",
        "\n",
        "            outputs = model(images)\n",
        "            predicted = torch.argmax(outputs.data, dim=1)\n",
        "            total += labels.size(0)\n",
        "            correct += int((predicted == labels).sum())\n",
        "    print(f\"Accuracy of the network on {dataset_test.data.shape[0]} test images: {100 * correct / total}%\")\n",
        "\n",
        "test(model,test_loader)"
      ],
      "metadata": {
        "colab": {
          "base_uri": "https://localhost:8080/"
        },
        "id": "is_0KU1v5D4C",
        "outputId": "e6b8e3ba-b8b0-4ea5-a9f4-771df573b3ce"
      },
      "execution_count": null,
      "outputs": [
        {
          "output_type": "stream",
          "name": "stdout",
          "text": [
            "Accuracy of the network on 10000 test images: 9.97%\n"
          ]
        }
      ]
    },
    {
      "cell_type": "markdown",
      "source": [
        "## Build the train loop"
      ],
      "metadata": {
        "id": "D0gxjlio5IL7"
      }
    },
    {
      "cell_type": "code",
      "source": [
        "optimizer = optim.Adam(model.parameters())\n",
        "criterion = nn.CrossEntropyLoss()\n",
        "\n",
        "epochs = 3\n",
        "for e in range(epochs):\n",
        "    model.train()\n",
        "    epoch_sum_loss = 0\n",
        "    \n",
        "    # Run mini-batch\n",
        "    for images, labels in train_loader:\n",
        "        # Move batch to davice\n",
        "        images = images.to(device)\n",
        "        labels = labels.to(device)\n",
        "        \n",
        "        # Training pass\n",
        "        optimizer.zero_grad()\n",
        "        \n",
        "        output = model(images)\n",
        "        loss = criterion(output, labels)\n",
        "        \n",
        "        #This is where the model learns by backpropagating\n",
        "        loss.backward()\n",
        "        \n",
        "        #And optimizes its weights here\n",
        "        optimizer.step()\n",
        "        \n",
        "        epoch_sum_loss += loss\n",
        "    print(f\"Epoch {e} - Training epoch mean loss: {epoch_sum_loss/len(train_loader)}\")    \n"
      ],
      "metadata": {
        "colab": {
          "base_uri": "https://localhost:8080/"
        },
        "id": "LX_HC9EA5JBf",
        "outputId": "6eacc23d-c27d-4a7a-c870-463c06432fc2"
      },
      "execution_count": null,
      "outputs": [
        {
          "output_type": "stream",
          "name": "stdout",
          "text": [
            "Epoch 0 - Training epoch mean loss: 1.6092263460159302\n",
            "Epoch 1 - Training epoch mean loss: 1.516556739807129\n",
            "Epoch 2 - Training epoch mean loss: 1.5039311647415161\n"
          ]
        }
      ]
    },
    {
      "cell_type": "markdown",
      "source": [
        "## Test the final model"
      ],
      "metadata": {
        "id": "UHmZJFzI5gnh"
      }
    },
    {
      "cell_type": "code",
      "source": [
        "test(model, test_loader)"
      ],
      "metadata": {
        "colab": {
          "base_uri": "https://localhost:8080/"
        },
        "id": "cRWuX4hX5iTb",
        "outputId": "3883b15b-b336-49c6-bea2-dd3a45b6463e"
      },
      "execution_count": null,
      "outputs": [
        {
          "output_type": "stream",
          "name": "stdout",
          "text": [
            "Accuracy of the network on 10000 test images: 95.97%\n"
          ]
        }
      ]
    },
    {
      "cell_type": "code",
      "source": [
        "dataiter = iter(test_loader)\n",
        "images, labels = dataiter.next()\n",
        "\n",
        "outputs = model(images.to(device))\n",
        "\n",
        "predicted = torch.argmax(outputs, dim=1)\n",
        "\n",
        "figure = plt.figure()\n",
        "num_of_images = 20\n",
        "for index in range(num_of_images):\n",
        "    plt.subplot(4, 5, index+1)\n",
        "    plt.axis('off')\n",
        "    plt.imshow(images[index,0,:,:], cmap='gray')\n",
        "    prd = int(predicted[index])\n",
        "    gt = int(labels[index])\n",
        "    plt.title(f\"pred:{prd}\\n gt:{gt}\" +\"\\nwrong!\"*(prd!=gt))\n",
        "plt.tight_layout()"
      ],
      "metadata": {
        "id": "S1aZNTYK5mU3",
        "outputId": "9eaf9568-d614-46f6-8dd2-c95db475ba70",
        "colab": {
          "base_uri": "https://localhost:8080/",
          "height": 297
        }
      },
      "execution_count": null,
      "outputs": [
        {
          "output_type": "display_data",
          "data": {
            "text/plain": [
              "<Figure size 432x288 with 20 Axes>"
            ],
            "image/png": "[encoded data removed]"
          },
          "metadata": {
            "needs_background": "light"
          }
        }
      ]
    }
  ]
}